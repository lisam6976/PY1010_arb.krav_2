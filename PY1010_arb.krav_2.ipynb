{
 "cells": [
  {
   "cell_type": "markdown",
   "id": "106691e6-255f-4d64-a28e-3aa6593abe6a",
   "metadata": {},
   "source": [
    "# PY1010 Arbeidskrav 2\n",
    "## Lisa L. Samuelsen"
   ]
  },
  {
   "cell_type": "markdown",
   "id": "fb223923-a321-40c3-90ce-e091c35bbd4c",
   "metadata": {},
   "source": [
    "### Oppgave 1"
   ]
  },
  {
   "cell_type": "code",
   "execution_count": 2,
   "id": "3d39a579-1a9b-437e-b9b0-b8de3ebb8743",
   "metadata": {},
   "outputs": [
    {
     "name": "stdout",
     "output_type": "stream",
     "text": [
      "oppgave 1\n"
     ]
    },
    {
     "name": "stdin",
     "output_type": "stream",
     "text": [
      "Hvilket år er du født? 1996\n"
     ]
    },
    {
     "name": "stdout",
     "output_type": "stream",
     "text": [
      "I 2024 fylte du 28 år.\n"
     ]
    }
   ],
   "source": [
    "print(\"oppgave 1\")\n",
    "år = int(input (\"Hvilket år er du født?\"))\n",
    "print(\"I 2024 fylte du\", 2024 - år, \"år.\")"
   ]
  },
  {
   "cell_type": "markdown",
   "id": "664d797c-5226-4c0d-9ce8-ea1e8be76c13",
   "metadata": {},
   "source": [
    "### Oppgave 2"
   ]
  },
  {
   "cell_type": "code",
   "execution_count": 3,
   "id": "a73511fc-87be-4f7c-8ed4-3d648e65260f",
   "metadata": {},
   "outputs": [
    {
     "name": "stdin",
     "output_type": "stream",
     "text": [
      "Skriv inn antall elever: 21\n"
     ]
    },
    {
     "name": "stdout",
     "output_type": "stream",
     "text": [
      "elevene vil spise 5.25 pizzaer\n",
      "For at alle skal få nok pizza må det handles inn 6 pizzaer\n"
     ]
    }
   ],
   "source": [
    "import math\n",
    "antall_elever = int(input(\"Skriv inn antall elever:\"))\n",
    "print(\"elevene vil spise\", antall_elever * 0.25, \"pizzaer\")\n",
    "antall_pizza = rounded_up = math.ceil(antall_elever * 0.25)\n",
    "print(\"For at alle skal få nok pizza må det handles inn\", antall_pizza, \"pizzaer\")"
   ]
  },
  {
   "cell_type": "markdown",
   "id": "db6a27cd-32ca-4a8c-b50a-b6c08f43ad66",
   "metadata": {},
   "source": [
    "### Oppgave 3"
   ]
  },
  {
   "cell_type": "code",
   "execution_count": 4,
   "id": "ea46fc28-bd5a-4b05-b57d-2b81d33b0c4e",
   "metadata": {},
   "outputs": [
    {
     "name": "stdin",
     "output_type": "stream",
     "text": [
      "Skriv inn gradtallet: 45\n"
     ]
    },
    {
     "name": "stdout",
     "output_type": "stream",
     "text": [
      "Når graden er 45.0  er radiantallet til vinkelen 0.7853981633974483\n"
     ]
    }
   ],
   "source": [
    "import numpy as np\n",
    "v_grad = float(input('Skriv inn gradtallet:' ))\n",
    "v_rad = v_grad*np.pi/180\n",
    "print(\"Når graden er\", v_grad ,  \" er radiantallet til vinkelen\", v_rad)"
   ]
  },
  {
   "cell_type": "markdown",
   "id": "3d583450-aaff-4079-8a55-6d874783bdf8",
   "metadata": {},
   "source": [
    "### Oppgave 4"
   ]
  },
  {
   "cell_type": "code",
   "execution_count": 6,
   "id": "6765be53-af82-433d-9f52-023ce20a098b",
   "metadata": {},
   "outputs": [
    {
     "name": "stdin",
     "output_type": "stream",
     "text": [
      "Skriv inn et av landene Norge, England, Frankrike, Italia: Italia\n"
     ]
    },
    {
     "name": "stdout",
     "output_type": "stream",
     "text": [
      "du skrev Italia\n",
      "Roma er hovedstaden i Italia og det er 2873 mill. innbyggere i Roma\n",
      "{'Norge': ['Oslo', 0.634], 'England': ['London', 8.982], 'Frankrike': ['Paris', 2.161], 'Italia': ['Roma', 2873]}\n"
     ]
    },
    {
     "name": "stdin",
     "output_type": "stream",
     "text": [
      "Legg til et nytt land som ikke allerede finnes i denne oversikten Skottland\n",
      "Hva er hovedstaden i landet du skrev inn? Edinburgh\n",
      "Hva er innbyggertallet i Edinburgh? 506520\n"
     ]
    },
    {
     "name": "stdout",
     "output_type": "stream",
     "text": [
      "Edinburgh er hovedstaden i Skottland og det er 506520.0 innbyggere i Edinburgh\n",
      "Oversikt over hele Dictionary'en, inkludert landet du la til:\n",
      "Norge: ['Oslo', 0.634]\n",
      "England: ['London', 8.982]\n",
      "Frankrike: ['Paris', 2.161]\n",
      "Italia: ['Roma', 2873]\n",
      "Skottland: ['Edinburgh', 506520.0]\n"
     ]
    }
   ],
   "source": [
    "data = {    \"Norge\": [\"Oslo\", 0.634], \"England\": [\"London\", 8.982], \"Frankrike\": [\"Paris\", 2.161], \"Italia\": [\"Roma\", 2873]}\n",
    "land = input(\"Skriv inn et av landene Norge, England, Frankrike, Italia:\")\n",
    "print(\"du skrev\", land)\n",
    "if land in data:\n",
    "    hovedstad, innbyggere = data[land]\n",
    "    print(f\"{hovedstad} er hovedstaden i {land} og det er {innbyggere} mill. innbyggere i {hovedstad}\")\n",
    "\n",
    "print(data)\n",
    "\n",
    "    \n",
    "\n",
    "nyttland = input(\"Legg til et nytt land som ikke allerede finnes i denne oversikten\")\n",
    "nyhovedstad = input(\"Hva er hovedstaden i landet du skrev inn?\")\n",
    "nyttinnbyggertall = float(input(f\"Hva er innbyggertallet i {nyhovedstad}?\"))\n",
    "\n",
    "data[nyttland] = [nyhovedstad, nyttinnbyggertall]\n",
    "if land in data:\n",
    "    hovedstad, innbyggere = data[nyttland]\n",
    "    print(f\"{hovedstad} er hovedstaden i {nyttland} og det er {innbyggere} innbyggere i {hovedstad}\")\n",
    "\n",
    "# Oversikt over dictionary\n",
    "print(\"Oversikt over hele Dictionary'en, inkludert landet du la til:\")\n",
    "for key, value in data.items():\n",
    "    print(f\"{key}: {value}\")\n",
    "      "
   ]
  },
  {
   "cell_type": "markdown",
   "id": "9e57ab33-2e8c-4983-acd9-0b345d83ad26",
   "metadata": {},
   "source": [
    "### Oppgave 5"
   ]
  },
  {
   "cell_type": "code",
   "execution_count": 7,
   "id": "c2d43e0b-63b4-46ab-ba01-43485ced3f76",
   "metadata": {},
   "outputs": [
    {
     "name": "stdout",
     "output_type": "stream",
     "text": [
      "Areal, altså flaten innenfor de sorte strekene i figuren, er  163.35729338221293\n",
      "Omkretsen, altså lengden av de sorte strekene som utgjør figuren er  43.56194490192345\n"
     ]
    }
   ],
   "source": [
    "import math\n",
    "\n",
    "def funksjon(a, b):\n",
    "    areal_re = a*b\n",
    "    radius = a / 2 #fordi a er diameteret til halvsirkelen fordi a er både den korte siden i trekanten og diameteret i halvsirkelen. \n",
    "    areal_si = (math.pi * (radius ** 2)) / 2 #først regnet ut areal til sirkel så delt på 2 fordi halvsirkel.\n",
    "    omkrets_si = math.pi * radius\n",
    "\n",
    "    helt_areal = areal_re + areal_si\n",
    "    hel_omkrets = a + b + omkrets_si\n",
    "    return helt_areal, hel_omkrets\n",
    "\n",
    "a = 15 #kort side rektangel, diameter halvsirkel\n",
    "b = 5 #lang side rektangel\n",
    "\n",
    "helt_areal, hel_omkrets = funksjon(a, b)\n",
    "print(\"Areal, altså flaten innenfor de sorte strekene i figuren, er \" , helt_areal )\n",
    "print(\"Omkretsen, altså lengden av de sorte strekene som utgjør figuren er \" , hel_omkrets )"
   ]
  },
  {
   "cell_type": "markdown",
   "id": "46c87c9f-baba-46aa-b6ef-537c9939ccf1",
   "metadata": {},
   "source": [
    "### Oppgave 6"
   ]
  },
  {
   "cell_type": "code",
   "execution_count": 8,
   "id": "a2db711d-708a-462a-a43c-92ba9cda271f",
   "metadata": {},
   "outputs": [
    {
     "data": {
      "image/png": "[encoded data removed]",
      "text/plain": [
       "<Figure size 640x480 with 1 Axes>"
      ]
     },
     "metadata": {},
     "output_type": "display_data"
    }
   ],
   "source": [
    "import numpy as np\n",
    "import matplotlib.pyplot as plt\n",
    "\n",
    "def f(x):\n",
    "    return -x**2 - 5\n",
    "x = np.linspace(-10, 10, 200)\n",
    "y = f(x)\n",
    "\n",
    "plt.plot(x, y, linestyle=\"-\", color=\"y\", label = \"f(x) = -x^2 - 5\")\n",
    "\n",
    "plt.title(\"f(x) = -x^2 - 5\")\n",
    "plt.xlabel(\"x\")\n",
    "plt.ylabel(\"f(x)\")\n",
    "\n",
    "plt.grid(True)\n"
   ]
  }
 ],
 "metadata": {
  "kernelspec": {
   "display_name": "Python 3 (ipykernel)",
   "language": "python",
   "name": "python3"
  },
  "language_info": {
   "codemirror_mode": {
    "name": "ipython",
    "version": 3
   },
   "file_extension": ".py",
   "mimetype": "text/x-python",
   "name": "python",
   "nbconvert_exporter": "python",
   "pygments_lexer": "ipython3",
   "version": "3.12.7"
  }
 },
 "nbformat": 4,
 "nbformat_minor": 5
}
